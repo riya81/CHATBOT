{
  "nbformat": 4,
  "nbformat_minor": 0,
  "metadata": {
    "colab": {
      "provenance": []
    },
    "kernelspec": {
      "name": "python3",
      "display_name": "Python 3"
    },
    "language_info": {
      "name": "python"
    }
  },
  "cells": [
    {
      "cell_type": "code",
      "execution_count": 1,
      "metadata": {
        "id": "RjKeJTiAcUt6",
        "colab": {
          "base_uri": "https://localhost:8080/"
        },
        "outputId": "c08b4a74-dfc7-45b2-d0a2-c3a40ebb028f"
      },
      "outputs": [
        {
          "output_type": "stream",
          "name": "stdout",
          "text": [
            "Hi, I'm a simple chatbot that can perform basic mathematical operations.\n",
            "Enter the first number: 23\n",
            "Enter the second number: 54\n",
            "Enter the operation you'd like to perform (e.g., addition, subtraction, multiplication, division): subtraction\n",
            "The result of 23.0 subtraction 54.0 is -31.0\n",
            "Would you like to perform more operations? (yes/no) yes\n",
            "Enter the first number: 666\n",
            "Enter the second number: 87\n",
            "Enter the operation you'd like to perform (e.g., addition, subtraction, multiplication, division): additiom\n",
            "Invalid operator. Please choose from addition, subtraction, multiplication, or division.\n",
            "Enter the first number: 60\n",
            "Enter the second number: 869\n",
            "Enter the operation you'd like to perform (e.g., addition, subtraction, multiplication, division): assition\n",
            "Invalid operator. Please choose from addition, subtraction, multiplication, or division.\n",
            "Enter the first number: 65\n",
            "Enter the second number: 4\n",
            "Enter the operation you'd like to perform (e.g., addition, subtraction, multiplication, division): addition\n",
            "The result of 65.0 addition 4.0 is 69.0\n",
            "Would you like to perform more operations? (yes/no) no\n",
            "Goodbye!\n"
          ]
        }
      ],
      "source": [
        "import operator\n",
        "\n",
        "# Define a dictionary to map user input to operator functions\n",
        "OPERATORS = {\n",
        "    'addition': operator.add,\n",
        "    'subtraction': operator.sub,\n",
        "    'multiplication': operator.mul,\n",
        "    'division': operator.truediv\n",
        "}\n",
        "\n",
        "def calculate():\n",
        "    print(\"Hi, I'm a simple chatbot that can perform basic mathematical operations.\")\n",
        "    while True:\n",
        "        try:\n",
        "            num1 = float(input(\"Enter the first number: \"))\n",
        "            num2 = float(input(\"Enter the second number: \"))\n",
        "            op = input(\"Enter the operation you'd like to perform (e.g., addition, subtraction, multiplication, division): \")\n",
        "            if op not in OPERATORS:\n",
        "                print(\"Invalid operator. Please choose from addition, subtraction, multiplication, or division.\")\n",
        "                continue\n",
        "            result = OPERATORS[op](num1, num2)\n",
        "            print(f\"The result of {num1} {op} {num2} is {result}\")\n",
        "            more_ops = input(\"Would you like to perform more operations? (yes/no) \")\n",
        "            if more_ops.lower() == 'yes':\n",
        "                continue\n",
        "            else:\n",
        "                print(\"Goodbye!\")\n",
        "                break\n",
        "        except ValueError:\n",
        "            print(\"Invalid input. Please enter a number.\")\n",
        "\n",
        "# Call the calculate function to start the chatbot\n",
        "calculate()\n",
        "3"
      ]
    },
    {
      "cell_type": "code",
      "source": [],
      "metadata": {
        "id": "zA7JrVeRoAwX"
      },
      "execution_count": null,
      "outputs": []
    }
  ]
}